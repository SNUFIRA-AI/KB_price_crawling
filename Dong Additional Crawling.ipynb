{
 "cells": [
  {
   "cell_type": "code",
   "execution_count": 1,
   "metadata": {},
   "outputs": [],
   "source": [
    "from selenium import webdriver\n",
    "from bs4 import BeautifulSoup\n",
    "from selenium.webdriver.common.action_chains import ActionChains\n",
    "import os\n",
    "import time\n",
    "import pickle\n",
    "\n",
    "import webbrowser\n",
    "from slacker import Slacker\n",
    "import requests, json"
   ]
  },
  {
   "cell_type": "code",
   "execution_count": 2,
   "metadata": {},
   "outputs": [],
   "source": [
    "curr_path = os.getcwd()\n",
    "sub_path = curr_path +\"/Dataset/Additional\""
   ]
  },
  {
   "cell_type": "code",
   "execution_count": 3,
   "metadata": {},
   "outputs": [],
   "source": [
    "def start(url):\n",
    "    driver = webdriver.Chrome('/Users/tax_k/Downloads/chromedriver')\n",
    "    driver.get(url)\n",
    "    return driver"
   ]
  },
  {
   "cell_type": "code",
   "execution_count": 4,
   "metadata": {},
   "outputs": [],
   "source": [
    "def getSiGunGu(name_id):\n",
    "    html = driver.page_source\n",
    "    soup = BeautifulSoup(html, 'html.parser')\n",
    "    sigungu_list = []\n",
    "    for li in soup.select(\"#\"+name_id+\" li\"):\n",
    "        sigungu_list.append(li.text)\n",
    "        \n",
    "    return sigungu_list"
   ]
  },
  {
   "cell_type": "code",
   "execution_count": 5,
   "metadata": {},
   "outputs": [],
   "source": [
    "def geteupMyeonDong(name_id):\n",
    "    html = driver.page_source\n",
    "    soup = BeautifulSoup(html, 'html.parser')\n",
    "    eupMyeonDong_list = []\n",
    "    \n",
    "    print(\"from eupmyendong\")\n",
    "    for li in soup.select(\"#\"+name_id+\" li\"):\n",
    "        eupMyeonDong_list.append(li.text)\n",
    "        \n",
    "    return eupMyeonDong_list"
   ]
  },
  {
   "cell_type": "code",
   "execution_count": 6,
   "metadata": {},
   "outputs": [],
   "source": [
    "def getDanji(name_id):\n",
    "    html = driver.page_source\n",
    "    soup = BeautifulSoup(html, 'html.parser')\n",
    "    danji_list = []\n",
    "    \n",
    "    print(\"from danji\")\n",
    "    for li in soup.select(\"#\"+name_id+\" li\"):\n",
    "        danji_list.append(li.text)\n",
    "        \n",
    "    return danji_list"
   ]
  },
  {
   "cell_type": "code",
   "execution_count": 7,
   "metadata": {},
   "outputs": [],
   "source": [
    "url = \"http://nland.kbstar.com/quics?page=B046948\"\n",
    "driver = start(url)\n",
    "driver.find_element_by_xpath(\"//a[@title = '시/도 선택']\").click()"
   ]
  },
  {
   "cell_type": "code",
   "execution_count": 8,
   "metadata": {},
   "outputs": [
    {
     "data": {
      "text/plain": [
       "25"
      ]
     },
     "execution_count": 8,
     "metadata": {},
     "output_type": "execute_result"
    }
   ],
   "source": [
    "si_id = \"siGunGu\"\n",
    "sigungu_list = getSiGunGu(si_id)\n",
    "len(sigungu_list)\n"
   ]
  },
  {
   "cell_type": "code",
   "execution_count": 18,
   "metadata": {},
   "outputs": [
    {
     "name": "stdout",
     "output_type": "stream",
     "text": [
      "from eupmyendong\n",
      "읍면동 리스트\n",
      "['개포동', '논현동', '대치동', '도곡동', '삼성동', '세곡동', '수서동', '신사동', '압구정동', '역삼동', '율현동', '일원동', '자곡동', '청담동']\n",
      "동 리스트--------------------1/14\n",
      "시세 탭 클릭\n",
      "fucnk out\n",
      "fuck\n",
      "{'avr_buy_price': '2,598', 'avr_rent_price': '523'}\n",
      "동 리스트--------------------2/14\n",
      "시세 탭 클릭\n",
      "fucnk out\n",
      "fuck\n",
      "{'avr_buy_price': '1,053', 'avr_rent_price': '572'}\n",
      "동 리스트--------------------3/14\n",
      "시세 탭 클릭\n",
      "fucnk out\n",
      "fuck\n",
      "{'avr_buy_price': '1,644', 'avr_rent_price': '731'}\n",
      "동 리스트--------------------4/14\n",
      "시세 탭 클릭\n",
      "fucnk out\n",
      "fuck\n",
      "{'avr_buy_price': '1,238', 'avr_rent_price': '705'}\n",
      "동 리스트--------------------5/14\n",
      "시세 탭 클릭\n",
      "fucnk out\n",
      "fuck\n",
      "{'avr_buy_price': '1,480', 'avr_rent_price': '726'}\n",
      "동 리스트--------------------6/14\n",
      "시세 탭 클릭\n",
      "fucnk out\n",
      "fuck\n",
      "{'avr_buy_price': '1,009', 'avr_rent_price': '531'}\n",
      "동 리스트--------------------7/14\n",
      "시세 탭 클릭\n",
      "fucnk out\n",
      "fuck\n",
      "{'avr_buy_price': '1,335', 'avr_rent_price': '577'}\n",
      "동 리스트--------------------8/14\n",
      "시세 탭 클릭\n",
      "fucnk out\n",
      "fuck\n",
      "{'avr_buy_price': '1,041', 'avr_rent_price': '593'}\n",
      "동 리스트--------------------9/14\n",
      "시세 탭 클릭\n",
      "fucnk out\n",
      "fuck\n",
      "{'avr_buy_price': '1,895', 'avr_rent_price': '553'}\n",
      "동 리스트--------------------10/14\n",
      "시세 탭 클릭\n",
      "fucnk out\n",
      "fuck\n",
      "{'avr_buy_price': '1,332', 'avr_rent_price': '762'}\n",
      "동 리스트--------------------11/14\n",
      "시세 탭 클릭\n",
      "fucnk out\n",
      "fuck\n",
      "{'avr_buy_price': '933', 'avr_rent_price': '518'}\n",
      "동 리스트--------------------12/14\n",
      "시세 탭 클릭\n",
      "fucnk out\n",
      "fuck\n",
      "{'avr_buy_price': '1,398', 'avr_rent_price': '636'}\n",
      "동 리스트--------------------13/14\n",
      "시세 탭 클릭\n",
      "fucnk out\n",
      "fuck\n",
      "{'avr_buy_price': '1,062', 'avr_rent_price': '564'}\n",
      "동 리스트--------------------14/14\n",
      "시세 탭 클릭\n",
      "fucnk out\n",
      "fuck\n",
      "{'avr_buy_price': '1,463', 'avr_rent_price': '627'}\n"
     ]
    }
   ],
   "source": [
    "try:\n",
    "    # for i in range(1, len(sigungu_list)):\n",
    "    curr_idx = 0\n",
    "\n",
    "    #구 리스트\n",
    "    for i in range(curr_idx, curr_idx+1):\n",
    "        sigungu_path = sub_path + \"/\" + str(i+1)\n",
    "\n",
    "        driver.find_element_by_xpath(\"//a[@title = '시/군/구 선택']\").click()\n",
    "        time.sleep(1)\n",
    "#         driver.find_element_by_css_selector(\"#nav0 > li.kb010101\").click()\n",
    "#         time.sleep(2)\n",
    "        driver.find_element_by_xpath(\"//ul[@id='\"+si_id+\"']/li[\"+str(i+1)+\"]\").click()\n",
    "        time.sleep(1)\n",
    "        \n",
    "        dong_id = \"eupMyeonDong\"\n",
    "        eupMyeonDong_list = geteupMyeonDong(dong_id)\n",
    "\n",
    "        \n",
    "        print(\"읍면동 리스트\")\n",
    "        print(eupMyeonDong_list)\n",
    "        #동 리스트\n",
    "#         for j in range(0, 1):\n",
    "\n",
    "        dong_avr_list = []\n",
    "        for j in range(0, len(eupMyeonDong_list)):\n",
    "            dong_path = sigungu_path+\"/\"+str(j+1)\n",
    "#             print(dong_path)\n",
    "\n",
    "\n",
    "            print(\"동 리스트\"+\"-\"*20 + str(j+1) + \"/\" + str(len(eupMyeonDong_list)))\n",
    "            driver.find_element_by_xpath(\"//a[@title = '읍/면/동 선택']\").click()\n",
    "            time.sleep(1)\n",
    "\n",
    "            driver.find_element_by_xpath(\"//ul[@id='\"+dong_id+\"']/li[\"+str(j+1)+\"]\").click()\n",
    "            time.sleep(1)\n",
    "            driver.find_element_by_css_selector(\"#default > div.select_content > div.map_btn > a\").click()\n",
    "            time.sleep(4)\n",
    "            \n",
    "            dong_info = get_dong_sise(eupMyeonDong_list[j])\n",
    "            print(\"fuck\")\n",
    "            print(dong_info)\n",
    "            dong_avr_list.append(dong_info)\n",
    "#             danji_id = \"danji\"\n",
    "#             danji_list = []\n",
    "#             danji_list = getDanji(danji_id)\n",
    "\n",
    "#             if len(danji_list) == 0:\n",
    "#                 print(\"아파트 단지 없음\")\n",
    "#             else:\n",
    "#                 #아파트 단지 리스트\n",
    "#                 for k in range(0, len(danji_list)):\n",
    "#     #             for k in range(217, len(danji_list)):\n",
    "#                     file_path = dong_path+'/'+danji_list[k]+'.txt'\n",
    "\n",
    "#                     print(\"아파트 리스트\"+\"-\"*20 + str(k+1) + \"/\" + str(len(danji_list)))\n",
    "\n",
    "#                     if not os.path.exists(os.path.dirname(file_path)):\n",
    "#                         try:\n",
    "#                             os.makedirs(os.path.dirname(file_path))\n",
    "#                         except OSError as exc:\n",
    "#                             if exc.errno != errno.EEXIST:\n",
    "#                                 raise\n",
    "\n",
    "#                     print(file_path)\n",
    "#                     subway_list = []\n",
    "#                     driver.find_element_by_xpath(\"//a[@title = '단지 선택']\").click()\n",
    "#                     time.sleep(2)\n",
    "#                     driver.find_element_by_xpath(\"//ul[@id='\"+danji_id+\"']/li[\"+str(k+1)+\"]\").click()\n",
    "#                     time.sleep(2)\n",
    "#                     driver.find_element_by_xpath('//div[@class=\"tab_type\"]/ul/li[3]').click()\n",
    "#                     time.sleep(2)\n",
    "\n",
    "#                     apt_name_element = driver.find_element_by_class_name(\"slide_tit\")\n",
    "\n",
    "\n",
    "#                     apt_jibun_element = driver.find_element_by_css_selector(\"#b056891 > div.sub.content.sale > div.apt_cpx > div.apt_cpx_info > dl:nth-child(1)\")\n",
    "#                     apt_area_element = driver.find_element_by_css_selector(\"#b056891 > div.sub.content.sale > div.apt_cpx > div.apt_cpx_info > dl:nth-child(2)\")\n",
    "#                     #select element\n",
    "#                     subway_element = driver.find_element_by_css_selector(\"#b056891 > div.sub.content.sale > div.apt_cpx > div.apt_cpx_box > div.apt_cpx_info.tp2 > dl:nth-child(1)\")\n",
    "#                     conv_element = driver.find_element_by_css_selector(\"#b056891 > div.sub.content.sale > div.apt_cpx > div.apt_cpx_box > div.apt_cpx_info.tp2 > dl:nth-child(2)\")\n",
    "#                     road_element = driver.find_element_by_css_selector(\"#b056891 > div.sub.content.sale > div.apt_cpx > div.apt_cpx_box > div.apt_cpx_info.tp2 > dl:nth-child(3)\")\n",
    "#                     edu_element = driver.find_element_by_css_selector(\"#b056891 > div.sub.content.sale > div.apt_cpx > div.apt_cpx_box > div.apt_cpx_info.tp2 > dl:nth-child(4)\")\n",
    "#                     medi_element = driver.find_element_by_css_selector(\"#b056891 > div.sub.content.sale > div.apt_cpx > div.apt_cpx_box > div.apt_cpx_info.tp2 > dl:nth-child(5)\")\n",
    "#                     park_element = driver.find_element_by_css_selector(\"#b056891 > div.sub.content.sale > div.apt_cpx > div.apt_cpx_box > div.apt_cpx_info.tp2 > dl:nth-child(6)\")\n",
    "#                     etc_element = driver.find_element_by_css_selector(\"#b056891 > div.sub.content.sale > div.apt_cpx > div.apt_cpx_box > div.apt_cpx_info.tp2 > dl:nth-child(7)\")\n",
    "\n",
    "\n",
    "\n",
    "#                     apt_name = apt_name_element.text\n",
    "#                     apt_jibun = apt_jibun_element.find_element_by_xpath(\"./dt[.='지번']/following-sibling::dd\").text\n",
    "#                     apt_area = apt_area_element.find_element_by_xpath(\"./dt[.='면적']/following-sibling::dd\").text\n",
    "\n",
    "#                     apt_area_lists = apt_area.split(\", \")\n",
    "#                     #subway list\n",
    "#                     subway_element_list = subway_element.find_elements_by_xpath(\"./dt[.='지하철']/following-sibling::dd/span\")\n",
    "#                     for lists in subway_element_list:\n",
    "#                         subway_list.append(lists.text)   \n",
    "\n",
    "#                     #conv_list\n",
    "#                     conv_list = conv_element.find_element_by_xpath(\"./dt[.='편의정보']/following-sibling::dd\").text\n",
    "#                     conv_lists = conv_list.split(\",\")\n",
    "\n",
    "#                     #road_list \n",
    "#                     road_list = road_element.find_element_by_xpath(\"./dt[.='도로시설']/following-sibling::dd\").text\n",
    "#                     road_lists = road_list.split(\",\")\n",
    "#                     #edu_list\n",
    "#                     edu_list = edu_element.find_element_by_xpath(\"./dt[.='교육시설']/following-sibling::dd\").text\n",
    "#                     edu_lists = edu_list.split(\",\")\n",
    "\n",
    "#                     medi_list = medi_element.find_element_by_xpath(\"./dt[.='의료시설']/following-sibling::dd\").text\n",
    "#                     medi_lists = medi_list.split(\",\")\n",
    "\n",
    "#                     park_list = park_element.find_element_by_xpath(\"./dt[.='공원']/following-sibling::dd\").text\n",
    "#                     park_lists = park_list.split(\",\")\n",
    "\n",
    "#                     etc_list = etc_element.find_element_by_xpath(\"./dt[.='기타시설']/following-sibling::dd\").text\n",
    "#                     etc_lists = etc_list.split(\",\")\n",
    "\n",
    "#                     basic_info_table = driver.find_element_by_css_selector(\"#b056891 > div.sub.content.sale > div.apt_cpx > div:nth-child(5) > table\")\n",
    "\n",
    "#                     rows = basic_info_table.find_elements_by_tag_name(\"tr\")\n",
    "\n",
    "\n",
    "#                     apt_internal_info_dic = {}\n",
    "#                     basic_info_list = []\n",
    "#                     th_list = []\n",
    "#                     for row in rows:      \n",
    "#                         cols = row.find_elements_by_xpath(\"./th/following-sibling::td\")\n",
    "#                         ths = row.find_elements_by_xpath(\"./th\")\n",
    "#                         for th in ths:\n",
    "#                             th_list.append(th.text)\n",
    "\n",
    "#                         for col in cols:\n",
    "#                             basic_info_list.append(col.text)\n",
    "\n",
    "#                     for (index, value) in enumerate(th_list):\n",
    "#                         apt_internal_info_dic[value] = basic_info_list[index]\n",
    "\n",
    "#                     apt_external_info_dic = {\n",
    "#                         \"apt_name\": apt_name,\n",
    "#                         \"apt_jibun\": apt_jibun,\n",
    "#                         \"apt_area\" : apt_area_lists,\n",
    "#                         \"subway_list\": subway_list,\n",
    "#                         \"conv_lists\" : conv_lists,\n",
    "#                         \"road_lists\": road_lists,\n",
    "#                         \"edu_lists\" : edu_lists,\n",
    "#                         \"medi_lists\": medi_lists,\n",
    "#                         \"park_lists\": park_lists,\n",
    "#                         \"etc_lists\" : etc_lists,\n",
    "#                         \"apt_internal_info\" : apt_internal_info_dic \n",
    "#                     }\n",
    "\n",
    "#                     with open(file_path, 'wb') as f:\n",
    "#                         pickle.dump(apt_external_info_dic, f)\n",
    "\n",
    "#                     time.sleep(2)  \n",
    "except Exception as e:\n",
    "    \n",
    "    error_name = str(e.__class__.__name__)\n",
    "    print(error_name)"
   ]
  },
  {
   "cell_type": "code",
   "execution_count": 17,
   "metadata": {},
   "outputs": [],
   "source": [
    "def get_dong_sise(dong_name):\n",
    "    \n",
    "    dong_dict = {}\n",
    "    \n",
    "    print(\"시세 탭 클릭\")\n",
    "    driver.find_element_by_css_selector(\"#b056692 > div.sub.content.sale > div.tab_type > ul > li:nth-child(2)\").click()\n",
    "    time.sleep(1)\n",
    "    #driver.find_element_by_css_selector(\"#b057524 > div > div.quotation > div.average_qtn > div.tit > h3 > span > span:nth-child(1) > button.on\").click()\n",
    "    #time.sleep(1)\n",
    "    \n",
    "    dong_buy_id = dong_name+\"매매금액\"\n",
    "    dong_rent_id = dong_name+\"전세금액\"\n",
    "    \n",
    "#     driver.find_element_by_css_selector(\"#b057524 > div > div.tab_type > ul > li:nth-child(3)\").click()\n",
    "#     time.sleep(1)\n",
    "#     driver.find_element_by_css_selector(\"#danjiFrm > div > div.bg_gray > div > dl > dd > span:nth-child(1)\").click()\n",
    "#     driver.find_element_by_css_selector(\"#danjiFrm > div > div.bg_gray > div > dl > dd > span:nth-child(2)\").click()\n",
    "#     driver.find_element_by_css_selector(\"#b056984 > div > div.btn_wrap > a.btn.btn02\").click()\n",
    "#     time.sleep(1)\n",
    "    \n",
    "    \n",
    "#     rebuild_info_table = driver.find_element_by_css_selector(\"#b056984 > div > div.sale_list > div.board_list.sale_tp.cpx_tp > table > tbody\")\n",
    "#     rows = rebuild_info_table.find_elements_by_tag_name(\"tr\")\n",
    "#     print(\"rebuild\")\n",
    "#     print(rebuild_info_table)\n",
    "    \n",
    "#     print(\"rows\")\n",
    "#     print(rows)\n",
    "#     print(len(rows))\n",
    "#     rebuild_info_list = []\n",
    "#     th_list = []\n",
    "    \n",
    "#     print(\"fuck in\")\n",
    "#     for row in rows:\n",
    "#         apt_addr = row.find_element_by_css_selector(\"#b056984 > div > div.sale_list > div.board_list.sale_tp.cpx_tp > table > tbody > tr:nth-child(1) > td.t_l.cpx_txt1\").text\n",
    "#         apt_name = row.find_element_by_css_selector(\"#b056984 > div > div.sale_list > div.board_list.sale_tp.cpx_tp > table > tbody > tr:nth-child(2) > td.t_l.cpx_tit > div > a\").text\n",
    "\n",
    "#         print(apt_addr)\n",
    "#         print(apt_name)\n",
    "        \n",
    "#         tmp_dic = {\n",
    "#             \"apt_name\": apt_name,\n",
    "#             \"apt_addr\": apt_addr\n",
    "#         }\n",
    "        \n",
    "#         print(\"여기/\")\n",
    "#         rebuild_info_list.append(tmp_dic)\n",
    "#         cols = row.find_elements_by_xpath(\"./th/following-sibling::td\")\n",
    "#         ths = row.find_elements_by_xpath(\"./th\")\n",
    "#         for th in ths:\n",
    "#             th_list.append(th.text)\n",
    "\n",
    "#         for col in cols:\n",
    "#             basic_info_list.append(col.text)\n",
    "\n",
    "#     for (index, value) in enumerate(th_list):\n",
    "#         apt_internal_info_dic[value] = basic_info_list[index]\n",
    "    \n",
    "    print(\"fucnk out\")\n",
    "    dong_dict = {\n",
    "        \"avr_buy_price\": driver.find_element_by_id(dong_buy_id).text,\n",
    "        \"avr_rent_price\": driver.find_element_by_id(dong_rent_id).text\n",
    "#         \"rebuild_list\": rebuild_info_list\n",
    "    }\n",
    "    \n",
    "    # 3.025 곱하자\n",
    "    return dong_dict\n",
    "    \n",
    "    \n",
    "    \n",
    "    "
   ]
  },
  {
   "cell_type": "code",
   "execution_count": 19,
   "metadata": {},
   "outputs": [
    {
     "data": {
      "text/plain": [
       "14"
      ]
     },
     "execution_count": 19,
     "metadata": {},
     "output_type": "execute_result"
    }
   ],
   "source": [
    "len(dong_avr_list)"
   ]
  },
  {
   "cell_type": "code",
   "execution_count": 20,
   "metadata": {},
   "outputs": [
    {
     "data": {
      "text/plain": [
       "[{'avr_buy_price': '2,598', 'avr_rent_price': '523'},\n",
       " {'avr_buy_price': '1,053', 'avr_rent_price': '572'},\n",
       " {'avr_buy_price': '1,644', 'avr_rent_price': '731'},\n",
       " {'avr_buy_price': '1,238', 'avr_rent_price': '705'},\n",
       " {'avr_buy_price': '1,480', 'avr_rent_price': '726'},\n",
       " {'avr_buy_price': '1,009', 'avr_rent_price': '531'},\n",
       " {'avr_buy_price': '1,335', 'avr_rent_price': '577'},\n",
       " {'avr_buy_price': '1,041', 'avr_rent_price': '593'},\n",
       " {'avr_buy_price': '1,895', 'avr_rent_price': '553'},\n",
       " {'avr_buy_price': '1,332', 'avr_rent_price': '762'},\n",
       " {'avr_buy_price': '933', 'avr_rent_price': '518'},\n",
       " {'avr_buy_price': '1,398', 'avr_rent_price': '636'},\n",
       " {'avr_buy_price': '1,062', 'avr_rent_price': '564'},\n",
       " {'avr_buy_price': '1,463', 'avr_rent_price': '627'}]"
      ]
     },
     "execution_count": 20,
     "metadata": {},
     "output_type": "execute_result"
    }
   ],
   "source": [
    "dong_avr_list"
   ]
  },
  {
   "cell_type": "code",
   "execution_count": 21,
   "metadata": {},
   "outputs": [],
   "source": []
  },
  {
   "cell_type": "code",
   "execution_count": 22,
   "metadata": {},
   "outputs": [],
   "source": [
    "dong_txt_list = ['개포동', '논현동', '대치동', '도곡동', '삼성동', '세곡동', '수서동', '신사동', '압구정동', '역삼동', '율현동', '일원동', '자곡동', '청담동']"
   ]
  },
  {
   "cell_type": "code",
   "execution_count": 23,
   "metadata": {},
   "outputs": [
    {
     "data": {
      "text/plain": [
       "14"
      ]
     },
     "execution_count": 23,
     "metadata": {},
     "output_type": "execute_result"
    }
   ],
   "source": [
    "len(dong_txt_list)"
   ]
  },
  {
   "cell_type": "code",
   "execution_count": 24,
   "metadata": {},
   "outputs": [],
   "source": [
    "for (index, value) in enumerate(dong_txt_list):\n",
    "    dong_avr_list[index][\"name\"] = value"
   ]
  },
  {
   "cell_type": "code",
   "execution_count": null,
   "metadata": {},
   "outputs": [],
   "source": []
  },
  {
   "cell_type": "code",
   "execution_count": 25,
   "metadata": {},
   "outputs": [
    {
     "data": {
      "text/plain": [
       "[{'avr_buy_price': '2,598', 'avr_rent_price': '523', 'name': '개포동'},\n",
       " {'avr_buy_price': '1,053', 'avr_rent_price': '572', 'name': '논현동'},\n",
       " {'avr_buy_price': '1,644', 'avr_rent_price': '731', 'name': '대치동'},\n",
       " {'avr_buy_price': '1,238', 'avr_rent_price': '705', 'name': '도곡동'},\n",
       " {'avr_buy_price': '1,480', 'avr_rent_price': '726', 'name': '삼성동'},\n",
       " {'avr_buy_price': '1,009', 'avr_rent_price': '531', 'name': '세곡동'},\n",
       " {'avr_buy_price': '1,335', 'avr_rent_price': '577', 'name': '수서동'},\n",
       " {'avr_buy_price': '1,041', 'avr_rent_price': '593', 'name': '신사동'},\n",
       " {'avr_buy_price': '1,895', 'avr_rent_price': '553', 'name': '압구정동'},\n",
       " {'avr_buy_price': '1,332', 'avr_rent_price': '762', 'name': '역삼동'},\n",
       " {'avr_buy_price': '933', 'avr_rent_price': '518', 'name': '율현동'},\n",
       " {'avr_buy_price': '1,398', 'avr_rent_price': '636', 'name': '일원동'},\n",
       " {'avr_buy_price': '1,062', 'avr_rent_price': '564', 'name': '자곡동'},\n",
       " {'avr_buy_price': '1,463', 'avr_rent_price': '627', 'name': '청담동'}]"
      ]
     },
     "execution_count": 25,
     "metadata": {},
     "output_type": "execute_result"
    }
   ],
   "source": [
    "dong_avr_list"
   ]
  },
  {
   "cell_type": "code",
   "execution_count": 32,
   "metadata": {},
   "outputs": [],
   "source": [
    "for i in dong_avr_list:\n",
    "#     i['avr_buy_price'] = int(i['avr_buy_price'].replace(',', ''))\n",
    "    i['avr_rent_price'] = int(i['avr_rent_price'])"
   ]
  },
  {
   "cell_type": "code",
   "execution_count": 33,
   "metadata": {},
   "outputs": [
    {
     "data": {
      "text/plain": [
       "[{'avr_buy_price': 2598, 'avr_rent_price': 523, 'name': '개포동'},\n",
       " {'avr_buy_price': 1053, 'avr_rent_price': 572, 'name': '논현동'},\n",
       " {'avr_buy_price': 1644, 'avr_rent_price': 731, 'name': '대치동'},\n",
       " {'avr_buy_price': 1238, 'avr_rent_price': 705, 'name': '도곡동'},\n",
       " {'avr_buy_price': 1480, 'avr_rent_price': 726, 'name': '삼성동'},\n",
       " {'avr_buy_price': 1009, 'avr_rent_price': 531, 'name': '세곡동'},\n",
       " {'avr_buy_price': 1335, 'avr_rent_price': 577, 'name': '수서동'},\n",
       " {'avr_buy_price': 1041, 'avr_rent_price': 593, 'name': '신사동'},\n",
       " {'avr_buy_price': 1895, 'avr_rent_price': 553, 'name': '압구정동'},\n",
       " {'avr_buy_price': 1332, 'avr_rent_price': 762, 'name': '역삼동'},\n",
       " {'avr_buy_price': 933, 'avr_rent_price': 518, 'name': '율현동'},\n",
       " {'avr_buy_price': 1398, 'avr_rent_price': 636, 'name': '일원동'},\n",
       " {'avr_buy_price': 1062, 'avr_rent_price': 564, 'name': '자곡동'},\n",
       " {'avr_buy_price': 1463, 'avr_rent_price': 627, 'name': '청담동'}]"
      ]
     },
     "execution_count": 33,
     "metadata": {},
     "output_type": "execute_result"
    }
   ],
   "source": [
    "dong_avr_list"
   ]
  },
  {
   "cell_type": "code",
   "execution_count": 34,
   "metadata": {},
   "outputs": [],
   "source": [
    "with open('gang_dong_avg.txt', 'wb') as f:\n",
    "    pickle.dump(dong_avr_list, f)"
   ]
  },
  {
   "cell_type": "code",
   "execution_count": null,
   "metadata": {},
   "outputs": [],
   "source": []
  }
 ],
 "metadata": {
  "kernelspec": {
   "display_name": "Python [conda env:DL]",
   "language": "python",
   "name": "conda-env-DL-py"
  },
  "language_info": {
   "codemirror_mode": {
    "name": "ipython",
    "version": 3
   },
   "file_extension": ".py",
   "mimetype": "text/x-python",
   "name": "python",
   "nbconvert_exporter": "python",
   "pygments_lexer": "ipython3",
   "version": "3.6.6"
  }
 },
 "nbformat": 4,
 "nbformat_minor": 2
}
