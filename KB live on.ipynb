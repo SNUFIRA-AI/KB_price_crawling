{
 "cells": [
  {
   "cell_type": "markdown",
   "metadata": {},
   "source": [
    "### Before crawling selenium Test"
   ]
  },
  {
   "cell_type": "code",
   "execution_count": 52,
   "metadata": {},
   "outputs": [],
   "source": [
    "from selenium import webdriver\n",
    "from bs4 import BeautifulSoup\n",
    "from selenium.webdriver.common.action_chains import ActionChains\n",
    "import time"
   ]
  },
  {
   "cell_type": "code",
   "execution_count": null,
   "metadata": {},
   "outputs": [],
   "source": [
    "driver = webdriver.Chrome('/Users/tax_k/Downloads/chromedriver')"
   ]
  },
  {
   "cell_type": "code",
   "execution_count": null,
   "metadata": {},
   "outputs": [],
   "source": [
    "driver.implicitly_wait(3)"
   ]
  },
  {
   "cell_type": "code",
   "execution_count": null,
   "metadata": {},
   "outputs": [],
   "source": [
    "driver.get('http://bdi.snu.ac.kr/academy/portal/index.php/login/?redirect_to=http%3A%2F%2Fbdi.snu.ac.kr%2Facademy%2Fportal')"
   ]
  },
  {
   "cell_type": "code",
   "execution_count": null,
   "metadata": {},
   "outputs": [],
   "source": [
    "driver.find_element_by_name('log').send_keys('YOUR-ID')"
   ]
  },
  {
   "cell_type": "code",
   "execution_count": null,
   "metadata": {},
   "outputs": [],
   "source": [
    "driver.find_element_by_name('pwd').send_keys('YOUR-PASS')"
   ]
  },
  {
   "cell_type": "code",
   "execution_count": null,
   "metadata": {},
   "outputs": [],
   "source": [
    "driver.find_element_by_css_selector('button.login-button').click()"
   ]
  },
  {
   "cell_type": "code",
   "execution_count": null,
   "metadata": {},
   "outputs": [],
   "source": [
    "element_to_hover_over = driver.find_element_by_id(\"menu-item-1860\")"
   ]
  },
  {
   "cell_type": "code",
   "execution_count": null,
   "metadata": {},
   "outputs": [],
   "source": [
    "hover = ActionChains(driver).move_to_element(element_to_hover_over)\n",
    "hover.perform()"
   ]
  },
  {
   "cell_type": "code",
   "execution_count": null,
   "metadata": {},
   "outputs": [],
   "source": [
    "driver.get('http://bdi.snu.ac.kr/academy/portal/index.php/ai_intro/sem3/aa31_ann_2018/')"
   ]
  },
  {
   "cell_type": "code",
   "execution_count": null,
   "metadata": {},
   "outputs": [],
   "source": [
    "driver.find_elements_by_css_selector('td.kboard-list-title')[1].click()"
   ]
  },
  {
   "cell_type": "code",
   "execution_count": null,
   "metadata": {},
   "outputs": [],
   "source": [
    "body = driver.find_element_by_css_selector('div.content-view')\n",
    "print(body.text)"
   ]
  },
  {
   "cell_type": "markdown",
   "metadata": {},
   "source": [
    "# Test"
   ]
  },
  {
   "cell_type": "code",
   "execution_count": 59,
   "metadata": {},
   "outputs": [],
   "source": [
    "def start(url):\n",
    "    driver = webdriver.Chrome('/Users/tax_k/Downloads/chromedriver')\n",
    "    driver.get(url)\n",
    "    return driver"
   ]
  },
  {
   "cell_type": "code",
   "execution_count": 60,
   "metadata": {},
   "outputs": [],
   "source": [
    "url = \"http://nland.kbstar.com/quics?page=B046948\"\n",
    "driver = start(url)"
   ]
  },
  {
   "cell_type": "code",
   "execution_count": 65,
   "metadata": {
    "scrolled": true
   },
   "outputs": [
    {
     "name": "stdout",
     "output_type": "stream",
     "text": [
      "상세주소를 입력해주세요서울특별시 강남구 역삼동 역삼래미안\n"
     ]
    }
   ],
   "source": [
    "address = input(\"상세주소를 입력해주세요\")\n",
    "address_list = address.split(\" \")"
   ]
  },
  {
   "cell_type": "code",
   "execution_count": 68,
   "metadata": {},
   "outputs": [],
   "source": [
    "def search(_id, search_keyword, error_message):\n",
    "    html = driver.page_source\n",
    "    soup = BeautifulSoup(html, 'html.parser')\n",
    "    _list = []\n",
    "    \n",
    "    print(\"Ul : \"+_id)\n",
    "    \n",
    "    tmp = soup.select(\"#\"+_id+\" li\")\n",
    "    print(tmp)\n",
    "    \n",
    "    for li in soup.select(\"#\"+_id+\" li\"):\n",
    "        _list.append(li.text)\n",
    "    \n",
    "    print(search_keyword)\n",
    "    if (search_keyword in _list):\n",
    "        index = _list.index(search_keyword)\n",
    "        driver.find_element_by_xpath(\"//ul[@id='\"+_id+\"']/li[\"+str(index+1)+\"]\").click()\n",
    "        time.sleep(1)\n",
    "    else:\n",
    "        print(\"여기 온다고?\")\n",
    "        print(error_message)"
   ]
  },
  {
   "cell_type": "code",
   "execution_count": 69,
   "metadata": {
    "scrolled": false
   },
   "outputs": [
    {
     "name": "stdout",
     "output_type": "stream",
     "text": [
      "Ul : sido\n",
      "[<li class=\"kb010000 on\"><a href=\"#\" onclick=\"siGunGuAjax('010000'); return false;\">서울특별시</a></li>, <li class=\"kb020000\"><a href=\"#\" onclick=\"siGunGuAjax('020000'); return false;\">경기도</a></li>, <li class=\"kb030000\"><a href=\"#\" onclick=\"siGunGuAjax('030000'); return false;\">인천광역시</a></li>, <li class=\"kb040000\"><a href=\"#\" onclick=\"siGunGuAjax('040000'); return false;\">부산광역시</a></li>, <li class=\"kb050000\"><a href=\"#\" onclick=\"siGunGuAjax('050000'); return false;\">대전광역시</a></li>, <li class=\"kb060000\"><a href=\"#\" onclick=\"siGunGuAjax('060000'); return false;\">대구광역시</a></li>, <li class=\"kb070000\"><a href=\"#\" onclick=\"siGunGuAjax('070000'); return false;\">광주광역시</a></li>, <li class=\"kb080000\"><a href=\"#\" onclick=\"siGunGuAjax('080000'); return false;\">울산광역시</a></li>, <li class=\"kb090000\"><a href=\"#\" onclick=\"siGunGuAjax('090000'); return false;\">강원도</a></li>, <li class=\"kb100000\"><a href=\"#\" onclick=\"siGunGuAjax('100000'); return false;\">충청남도</a></li>, <li class=\"kb110000\"><a href=\"#\" onclick=\"siGunGuAjax('110000'); return false;\">충청북도</a></li>, <li class=\"kb120000\"><a href=\"#\" onclick=\"siGunGuAjax('120000'); return false;\">경상남도</a></li>, <li class=\"kb130000\"><a href=\"#\" onclick=\"siGunGuAjax('130000'); return false;\">경상북도</a></li>, <li class=\"kb140000\"><a href=\"#\" onclick=\"siGunGuAjax('140000'); return false;\">전라남도</a></li>, <li class=\"kb150000\"><a href=\"#\" onclick=\"siGunGuAjax('150000'); return false;\">전라북도</a></li>, <li class=\"kb160000\"><a href=\"#\" onclick=\"siGunGuAjax('160000'); return false;\">제주특별자치도</a></li>, <li class=\"kb170000\"><a href=\"#\" onclick=\"siGunGuAjax('170000'); return false;\">세종특별자치시</a></li>]\n",
      "서울특별시\n",
      "Ul : siGunGu\n",
      "[<li class=\"kb010100\"><a href=\"#\" onclick=\"eupMyeonDongAjax('010100'); return false;\">강남구</a></li>, <li class=\"kb010200\"><a href=\"#\" onclick=\"eupMyeonDongAjax('010200'); return false;\">강동구</a></li>, <li class=\"kb010300\"><a href=\"#\" onclick=\"eupMyeonDongAjax('010300'); return false;\">강북구</a></li>, <li class=\"kb010400\"><a href=\"#\" onclick=\"eupMyeonDongAjax('010400'); return false;\">강서구</a></li>, <li class=\"kb010500\"><a href=\"#\" onclick=\"eupMyeonDongAjax('010500'); return false;\">관악구</a></li>, <li class=\"kb010600\"><a href=\"#\" onclick=\"eupMyeonDongAjax('010600'); return false;\">광진구</a></li>, <li class=\"kb010700\"><a href=\"#\" onclick=\"eupMyeonDongAjax('010700'); return false;\">구로구</a></li>, <li class=\"kb010800\"><a href=\"#\" onclick=\"eupMyeonDongAjax('010800'); return false;\">금천구</a></li>, <li class=\"kb010900\"><a href=\"#\" onclick=\"eupMyeonDongAjax('010900'); return false;\">노원구</a></li>, <li class=\"kb011000\"><a href=\"#\" onclick=\"eupMyeonDongAjax('011000'); return false;\">도봉구</a></li>, <li class=\"kb011100\"><a href=\"#\" onclick=\"eupMyeonDongAjax('011100'); return false;\">동대문구</a></li>, <li class=\"kb011200\"><a href=\"#\" onclick=\"eupMyeonDongAjax('011200'); return false;\">동작구</a></li>, <li class=\"kb011300\"><a href=\"#\" onclick=\"eupMyeonDongAjax('011300'); return false;\">마포구</a></li>, <li class=\"kb011400\"><a href=\"#\" onclick=\"eupMyeonDongAjax('011400'); return false;\">서대문구</a></li>, <li class=\"kb011500\"><a href=\"#\" onclick=\"eupMyeonDongAjax('011500'); return false;\">서초구</a></li>, <li class=\"kb011600\"><a href=\"#\" onclick=\"eupMyeonDongAjax('011600'); return false;\">성동구</a></li>, <li class=\"kb011700\"><a href=\"#\" onclick=\"eupMyeonDongAjax('011700'); return false;\">성북구</a></li>, <li class=\"kb011800\"><a href=\"#\" onclick=\"eupMyeonDongAjax('011800'); return false;\">송파구</a></li>, <li class=\"kb011900\"><a href=\"#\" onclick=\"eupMyeonDongAjax('011900'); return false;\">양천구</a></li>, <li class=\"kb012000\"><a href=\"#\" onclick=\"eupMyeonDongAjax('012000'); return false;\">영등포구</a></li>, <li class=\"kb012100\"><a href=\"#\" onclick=\"eupMyeonDongAjax('012100'); return false;\">용산구</a></li>, <li class=\"kb012200\"><a href=\"#\" onclick=\"eupMyeonDongAjax('012200'); return false;\">은평구</a></li>, <li class=\"kb012300\"><a href=\"#\" onclick=\"eupMyeonDongAjax('012300'); return false;\">종로구</a></li>, <li class=\"kb012400\"><a href=\"#\" onclick=\"eupMyeonDongAjax('012400'); return false;\">중구</a></li>, <li class=\"kb012500\"><a href=\"#\" onclick=\"eupMyeonDongAjax('012500'); return false;\">중랑구</a></li>]\n",
      "강남구\n",
      "Ul : eupMyeonDong\n",
      "[<li class=\"kb010101\"><a href=\"#\" onclick=\"danjiAjax('010101'); return false;\">개포동</a></li>, <li class=\"kb010102\"><a href=\"#\" onclick=\"danjiAjax('010102'); return false;\">논현동</a></li>, <li class=\"kb010103\"><a href=\"#\" onclick=\"danjiAjax('010103'); return false;\">대치동</a></li>, <li class=\"kb010104\"><a href=\"#\" onclick=\"danjiAjax('010104'); return false;\">도곡동</a></li>, <li class=\"kb010105\"><a href=\"#\" onclick=\"danjiAjax('010105'); return false;\">삼성동</a></li>, <li class=\"kb010106\"><a href=\"#\" onclick=\"danjiAjax('010106'); return false;\">세곡동</a></li>, <li class=\"kb010107\"><a href=\"#\" onclick=\"danjiAjax('010107'); return false;\">수서동</a></li>, <li class=\"kb010108\"><a href=\"#\" onclick=\"danjiAjax('010108'); return false;\">신사동</a></li>, <li class=\"kb010109\"><a href=\"#\" onclick=\"danjiAjax('010109'); return false;\">압구정동</a></li>, <li class=\"kb010110\"><a href=\"#\" onclick=\"danjiAjax('010110'); return false;\">역삼동</a></li>, <li class=\"kb010111\"><a href=\"#\" onclick=\"danjiAjax('010111'); return false;\">율현동</a></li>, <li class=\"kb010112\"><a href=\"#\" onclick=\"danjiAjax('010112'); return false;\">일원동</a></li>, <li class=\"kb010114\"><a href=\"#\" onclick=\"danjiAjax('010114'); return false;\">자곡동</a></li>, <li class=\"kb010115\"><a href=\"#\" onclick=\"danjiAjax('010115'); return false;\">청담동</a></li>]\n",
      "역삼동\n",
      "Ul : danji\n",
      "[<li class=\"kbKBM047980\"><a href=\"#\" onclick=\"selectDanji('KBM047980', '010110', 'CMD(르네상스프라자)', true, true); return false;\">CMD(르네상스프라자)</a></li>, <li class=\"kbKBM035284\"><a href=\"#\" onclick=\"selectDanji('KBM035284', '010110', 'D&amp;S리치빌(도시형)', true, true); return false;\">D&amp;S리치빌(도시형)</a></li>, <li class=\"kbKBM034403\"><a href=\"#\" onclick=\"selectDanji('KBM034403', '010110', 'K타워(도시형)', true, true); return false;\">K타워(도시형)</a></li>, <li class=\"kbKBM015241\"><a href=\"#\" onclick=\"selectDanji('KBM015241', '010110', 'SK허브젠', true, true); return false;\">SK허브젠</a></li>, <li class=\"kbKBM050740\"><a href=\"#\" onclick=\"selectDanji('KBM050740', '010110', '강남IBC(도시형)', true, true); return false;\">강남IBC(도시형)</a></li>, <li class=\"kbKBM014886\"><a href=\"#\" onclick=\"selectDanji('KBM014886', '010110', '강남역우정에쉐르', true, true); return false;\">강남역우정에쉐르</a></li>, <li class=\"kbKBM036795\"><a href=\"#\" onclick=\"selectDanji('KBM036795', '010110', '강남역이스턴(도시형)', true, true); return false;\">강남역이스턴(도시형)</a></li>, <li class=\"kbKBM032540\"><a href=\"#\" onclick=\"selectDanji('KBM032540', '010110', '강남한솔', true, true); return false;\">강남한솔</a></li>, <li class=\"kbKBM000023\"><a href=\"#\" onclick=\"selectDanji('KBM000023', '010110', '개나리(4차)', true, true); return false;\">개나리(4차)</a></li>, <li class=\"kbKBM031838\"><a href=\"#\" onclick=\"selectDanji('KBM031838', '010110', '개나리SK뷰', true, true); return false;\">개나리SK뷰</a></li>, <li class=\"kbKBM015811\"><a href=\"#\" onclick=\"selectDanji('KBM015811', '010110', '개나리래미안', true, true); return false;\">개나리래미안</a></li>, <li class=\"kbKBM015810\"><a href=\"#\" onclick=\"selectDanji('KBM015810', '010110', '개나리푸르지오', true, true); return false;\">개나리푸르지오</a></li>, <li class=\"kbKBM013712\"><a href=\"#\" onclick=\"selectDanji('KBM013712', '010110', '갤러리빌', true, true); return false;\">갤러리빌</a></li>, <li class=\"kbKBM031091\"><a href=\"#\" onclick=\"selectDanji('KBM031091', '010110', '갤러리아트', true, true); return false;\">갤러리아트</a></li>, <li class=\"kbKBM000055\"><a href=\"#\" onclick=\"selectDanji('KBM000055', '010110', '갤러리하우스', true, true); return false;\">갤러리하우스</a></li>, <li class=\"kbKBM000030\"><a href=\"#\" onclick=\"selectDanji('KBM000030', '010110', '거평', true, true); return false;\">거평</a></li>, <li class=\"kbKBM000043\"><a href=\"#\" onclick=\"selectDanji('KBM000043', '010110', '경남', true, true); return false;\">경남</a></li>, <li class=\"kbKBM034413\"><a href=\"#\" onclick=\"selectDanji('KBM034413', '010110', '경인리빙텔', true, true); return false;\">경인리빙텔</a></li>, <li class=\"kbKBM000058\"><a href=\"#\" onclick=\"selectDanji('KBM000058', '010110', '경일역삼', true, true); return false;\">경일역삼</a></li>, <li class=\"kbKBM031019\"><a href=\"#\" onclick=\"selectDanji('KBM031019', '010110', '공간쉐르빌', true, true); return false;\">공간쉐르빌</a></li>, <li class=\"kbKBM033062\"><a href=\"#\" onclick=\"selectDanji('KBM033062', '010110', '광평하우스빌', true, true); return false;\">광평하우스빌</a></li>, <li class=\"kbKBM013824\"><a href=\"#\" onclick=\"selectDanji('KBM013824', '010110', '금호어울림', true, true); return false;\">금호어울림</a></li>, <li class=\"kbKBM000031\"><a href=\"#\" onclick=\"selectDanji('KBM000031', '010110', '네스빌', true, true); return false;\">네스빌</a></li>, <li class=\"kbKBM025028\"><a href=\"#\" onclick=\"selectDanji('KBM025028', '010110', '노블스위트', true, true); return false;\">노블스위트</a></li>, <li class=\"kbKBM024163\"><a href=\"#\" onclick=\"selectDanji('KBM024163', '010110', '뉴엠', true, true); return false;\">뉴엠</a></li>, <li class=\"kbKBM000033\"><a href=\"#\" onclick=\"selectDanji('KBM000033', '010110', '대림역삼', true, true); return false;\">대림역삼</a></li>, <li class=\"kbKBM032628\"><a href=\"#\" onclick=\"selectDanji('KBM032628', '010110', '대명벨리온(도시형)', true, true); return false;\">대명벨리온(도시형)</a></li>, <li class=\"kbKBM013979\"><a href=\"#\" onclick=\"selectDanji('KBM013979', '010110', '대우디오빌플러스', true, true); return false;\">대우디오빌플러스</a></li>, <li class=\"kbKBM000029\"><a href=\"#\" onclick=\"selectDanji('KBM000029', '010110', '동부센트레빌', true, true); return false;\">동부센트레빌</a></li>, <li class=\"kbKBM046628\"><a href=\"#\" onclick=\"selectDanji('KBM046628', '010110', '동원스위트뷰역삼', true, true); return false;\">동원스위트뷰역삼</a></li>, <li class=\"kbKBM000042\"><a href=\"#\" onclick=\"selectDanji('KBM000042', '010110', '디오빌역삼', true, true); return false;\">디오빌역삼</a></li>, <li class=\"kbKBM026560\"><a href=\"#\" onclick=\"selectDanji('KBM026560', '010110', '뜨라네(828-21)', true, true); return false;\">뜨라네(828-21)</a></li>, <li class=\"kbKBM023476\"><a href=\"#\" onclick=\"selectDanji('KBM023476', '010110', '뜨라네(828-76)', true, true); return false;\">뜨라네(828-76)</a></li>, <li class=\"kbKBM025402\"><a href=\"#\" onclick=\"selectDanji('KBM025402', '010110', '래미안그레이튼', true, true); return false;\">래미안그레이튼</a></li>, <li class=\"kbKBM025404\"><a href=\"#\" onclick=\"selectDanji('KBM025404', '010110', '래미안그레이튼(진달래2차)', true, true); return false;\">래미안그레이튼(진달래2차)</a></li>, <li class=\"kbKBM016834\"><a href=\"#\" onclick=\"selectDanji('KBM016834', '010110', '래미안펜타빌', true, true); return false;\">래미안펜타빌</a></li>, <li class=\"kbKBM017255\"><a href=\"#\" onclick=\"selectDanji('KBM017255', '010110', '로얄빌리지', true, true); return false;\">로얄빌리지</a></li>, <li class=\"kbKBM031119\"><a href=\"#\" onclick=\"selectDanji('KBM031119', '010110', '로얄팰리스', true, true); return false;\">로얄팰리스</a></li>, <li class=\"kbKBM034548\"><a href=\"#\" onclick=\"selectDanji('KBM034548', '010110', '루트원레지던스(도시형)', true, true); return false;\">루트원레지던스(도시형)</a></li>, <li class=\"kbKBM000036\"><a href=\"#\" onclick=\"selectDanji('KBM000036', '010110', '리치타워', true, true); return false;\">리치타워</a></li>, <li class=\"kbKBM022439\"><a href=\"#\" onclick=\"selectDanji('KBM022439', '010110', '명인갤러리1차', true, true); return false;\">명인갤러리1차</a></li>, <li class=\"kbKBM024685\"><a href=\"#\" onclick=\"selectDanji('KBM024685', '010110', '명인갤러리2차', true, true); return false;\">명인갤러리2차</a></li>, <li class=\"kbKBM031104\"><a href=\"#\" onclick=\"selectDanji('KBM031104', '010110', '베르사이유', true, true); return false;\">베르사이유</a></li>, <li class=\"kbKBM013990\"><a href=\"#\" onclick=\"selectDanji('KBM013990', '010110', '베스젠빌', true, true); return false;\">베스젠빌</a></li>, <li class=\"kbKBM027936\"><a href=\"#\" onclick=\"selectDanji('KBM027936', '010110', '불루밍코트', true, true); return false;\">불루밍코트</a></li>, <li class=\"kbKBM031980\"><a href=\"#\" onclick=\"selectDanji('KBM031980', '010110', '블루밍하우스(도시형)', true, true); return false;\">블루밍하우스(도시형)</a></li>, <li class=\"kbKBM015259\"><a href=\"#\" onclick=\"selectDanji('KBM015259', '010110', '상지리츠빌', true, true); return false;\">상지리츠빌</a></li>, <li class=\"kbKBM025805\"><a href=\"#\" onclick=\"selectDanji('KBM025805', '010110', '상지리츠빌역삼2차', true, true); return false;\">상지리츠빌역삼2차</a></li>, <li class=\"kbKBM014725\"><a href=\"#\" onclick=\"selectDanji('KBM014725', '010110', '선릉역우정에쉐르멤버스', true, true); return false;\">선릉역우정에쉐르멤버스</a></li>, <li class=\"kbKBM022247\"><a href=\"#\" onclick=\"selectDanji('KBM022247', '010110', '성영포유', true, true); return false;\">성영포유</a></li>, <li class=\"kbKBM043968\"><a href=\"#\" onclick=\"selectDanji('KBM043968', '010110', '세방하이빌1,2', true, true); return false;\">세방하이빌1,2</a></li>, <li class=\"kbKBM024283\"><a href=\"#\" onclick=\"selectDanji('KBM024283', '010110', '세연예지향', true, true); return false;\">세연예지향</a></li>, <li class=\"kbKBM000032\"><a href=\"#\" onclick=\"selectDanji('KBM000032', '010110', '세종빌라트', true, true); return false;\">세종빌라트</a></li>, <li class=\"kbKBM016431\"><a href=\"#\" onclick=\"selectDanji('KBM016431', '010110', '쌍용플래티넘밸류', true, true); return false;\">쌍용플래티넘밸류</a></li>, <li class=\"kbKBM031048\"><a href=\"#\" onclick=\"selectDanji('KBM031048', '010110', '쎄비앙', true, true); return false;\">쎄비앙</a></li>, <li class=\"kbKBM034941\"><a href=\"#\" onclick=\"selectDanji('KBM034941', '010110', '에레프(도시형)', true, true); return false;\">에레프(도시형)</a></li>, <li class=\"kbKBM032687\"><a href=\"#\" onclick=\"selectDanji('KBM032687', '010110', '에벤에셀빌라트', true, true); return false;\">에벤에셀빌라트</a></li>, <li class=\"kbKBM031074\"><a href=\"#\" onclick=\"selectDanji('KBM031074', '010110', '역삼(리츠빌)', true, true); return false;\">역삼(리츠빌)</a></li>, <li class=\"kbKBM016862\"><a href=\"#\" onclick=\"selectDanji('KBM016862', '010110', '역삼2차아이파크', true, true); return false;\">역삼2차아이파크</a></li>, <li class=\"kbKBM033134\"><a href=\"#\" onclick=\"selectDanji('KBM033134', '010110', '역삼EG소울리더(도시형)', true, true); return false;\">역삼EG소울리더(도시형)</a></li>, <li class=\"kbKBM015461\"><a href=\"#\" onclick=\"selectDanji('KBM015461', '010110', '역삼e-편한세상', true, true); return false;\">역삼e-편한세상</a></li>, <li class=\"kbKBM016298\"><a href=\"#\" onclick=\"selectDanji('KBM016298', '010110', '역삼골든베리힐', true, true); return false;\">역삼골든베리힐</a></li>, <li class=\"kbKBM032630\"><a href=\"#\" onclick=\"selectDanji('KBM032630', '010110', '역삼그린비', true, true); return false;\">역삼그린비</a></li>, <li class=\"kbKBM022348\"><a href=\"#\" onclick=\"selectDanji('KBM022348', '010110', '역삼노블카운티', true, true); return false;\">역삼노블카운티</a></li>, <li class=\"kbKBM016486\"><a href=\"#\" onclick=\"selectDanji('KBM016486', '010110', '역삼동롯데캐슬노블', true, true); return false;\">역삼동롯데캐슬노블</a></li>, <li class=\"kbKBM014077\"><a href=\"#\" onclick=\"selectDanji('KBM014077', '010110', '역삼동우정에쉐르 l', true, true); return false;\">역삼동우정에쉐르 l</a></li>, <li class=\"kbKBM017504\"><a href=\"#\" onclick=\"selectDanji('KBM017504', '010110', '역삼동우정에쉐르Ⅱ', true, true); return false;\">역삼동우정에쉐르Ⅱ</a></li>, <li class=\"kbKBM015320\"><a href=\"#\" onclick=\"selectDanji('KBM015320', '010110', '역삼동월드메르디앙', true, true); return false;\">역삼동월드메르디앙</a></li>, <li class=\"kbKBM015990\"><a href=\"#\" onclick=\"selectDanji('KBM015990', '010110', '역삼디오슈페리움', true, true); return false;\">역삼디오슈페리움</a></li>, <li class=\"kbKBM015300\"><a href=\"#\" onclick=\"selectDanji('KBM015300', '010110', '역삼래미안', true, true); return false;\">역삼래미안</a></li>, <li class=\"kbKBM022120\"><a href=\"#\" onclick=\"selectDanji('KBM022120', '010110', '역삼르비앙', true, true); return false;\">역삼르비앙</a></li>, <li class=\"kbKBM038453\"><a href=\"#\" onclick=\"selectDanji('KBM038453', '010110', '역삼미까사(도시형)', true, true); return false;\">역삼미까사(도시형)</a></li>, <li class=\"kbKBM014115\"><a href=\"#\" onclick=\"selectDanji('KBM014115', '010110', '역삼브라운스톤', true, true); return false;\">역삼브라운스톤</a></li>, <li class=\"kbKBM015981\"><a href=\"#\" onclick=\"selectDanji('KBM015981', '010110', '역삼아이파크', true, true); return false;\">역삼아이파크</a></li>, <li class=\"kbKBM025943\"><a href=\"#\" onclick=\"selectDanji('KBM025943', '010110', '역삼엔스위트', true, true); return false;\">역삼엔스위트</a></li>, <li class=\"kbKBM000053\"><a href=\"#\" onclick=\"selectDanji('KBM000053', '010110', '역삼열성카이스빌', true, true); return false;\">역삼열성카이스빌</a></li>, <li class=\"kbKBM014905\"><a href=\"#\" onclick=\"selectDanji('KBM014905', '010110', '역삼예명', true, true); return false;\">역삼예명</a></li>, <li class=\"kbKBM017257\"><a href=\"#\" onclick=\"selectDanji('KBM017257', '010110', '역삼우성', true, true); return false;\">역삼우성</a></li>, <li class=\"kbKBM000034\"><a href=\"#\" onclick=\"selectDanji('KBM000034', '010110', '역삼우성빌라트', true, true); return false;\">역삼우성빌라트</a></li>, <li class=\"kbKBM014346\"><a href=\"#\" onclick=\"selectDanji('KBM014346', '010110', '역삼우정에쉐르3', true, true); return false;\">역삼우정에쉐르3</a></li>, <li class=\"kbKBM027219\"><a href=\"#\" onclick=\"selectDanji('KBM027219', '010110', '역삼이안애', true, true); return false;\">역삼이안애</a></li>, <li class=\"kbKBM036757\"><a href=\"#\" onclick=\"selectDanji('KBM036757', '010110', '역삼자이', true, true); return false;\">역삼자이</a></li>, <li class=\"kbKBM030221\"><a href=\"#\" onclick=\"selectDanji('KBM030221', '010110', '역삼종합시장더블루', true, true); return false;\">역삼종합시장더블루</a></li>, <li class=\"kbKBM000059\"><a href=\"#\" onclick=\"selectDanji('KBM000059', '010110', '역삼칼라', true, true); return false;\">역삼칼라</a></li>, <li class=\"kbKBM000050\"><a href=\"#\" onclick=\"selectDanji('KBM000050', '010110', '역삼트레벨', true, true); return false;\">역삼트레벨</a></li>, <li class=\"kbKBM015473\"><a href=\"#\" onclick=\"selectDanji('KBM015473', '010110', '역삼푸르지오', true, true); return false;\">역삼푸르지오</a></li>, <li class=\"kbKBM023218\"><a href=\"#\" onclick=\"selectDanji('KBM023218', '010110', '역삼프라임', true, true); return false;\">역삼프라임</a></li>, <li class=\"kbKBM022860\"><a href=\"#\" onclick=\"selectDanji('KBM022860', '010110', '역삼프리마빌', true, true); return false;\">역삼프리마빌</a></li>, <li class=\"kbKBM017256\"><a href=\"#\" onclick=\"selectDanji('KBM017256', '010110', '역삼프리우스', true, true); return false;\">역삼프리우스</a></li>, <li class=\"kbKBM023647\"><a href=\"#\" onclick=\"selectDanji('KBM023647', '010110', '역삼하나빌', true, true); return false;\">역삼하나빌</a></li>, <li class=\"kbKBM000037\"><a href=\"#\" onclick=\"selectDanji('KBM000037', '010110', '역삼한스빌', true, true); return false;\">역삼한스빌</a></li>, <li class=\"kbKBM026950\"><a href=\"#\" onclick=\"selectDanji('KBM026950', '010110', '예지인', true, true); return false;\">예지인</a></li>, <li class=\"kbKBM033667\"><a href=\"#\" onclick=\"selectDanji('KBM033667', '010110', '요진와이시티미니(도시형)', true, true); return false;\">요진와이시티미니(도시형)</a></li>, <li class=\"kbKBM043406\"><a href=\"#\" onclick=\"selectDanji('KBM043406', '010110', '우리집(도시형)', true, true); return false;\">우리집(도시형)</a></li>, <li class=\"kbKBM044805\"><a href=\"#\" onclick=\"selectDanji('KBM044805', '010110', '우림루미아트', true, true); return false;\">우림루미아트</a></li>, <li class=\"kbKBM000035\"><a href=\"#\" onclick=\"selectDanji('KBM000035', '010110', '은하수', true, true); return false;\">은하수</a></li>, <li class=\"kbKBM024770\"><a href=\"#\" onclick=\"selectDanji('KBM024770', '010110', '정원', true, true); return false;\">정원</a></li>, <li class=\"kbKBM016068\"><a href=\"#\" onclick=\"selectDanji('KBM016068', '010110', '조이너스', true, true); return false;\">조이너스</a></li>, <li class=\"kbKBM040361\"><a href=\"#\" onclick=\"selectDanji('KBM040361', '010110', '좋은사람좋은집(도시형)', true, true); return false;\">좋은사람좋은집(도시형)</a></li>, <li class=\"kbKBM000054\"><a href=\"#\" onclick=\"selectDanji('KBM000054', '010110', '지석천평대', true, true); return false;\">지석천평대</a></li>, <li class=\"kbKBM025490\"><a href=\"#\" onclick=\"selectDanji('KBM025490', '010110', '진넥스빌2', true, true); return false;\">진넥스빌2</a></li>, <li class=\"kbKBM025054\"><a href=\"#\" onclick=\"selectDanji('KBM025054', '010110', '탑팰리스', true, true); return false;\">탑팰리스</a></li>, <li class=\"kbKBM028104\"><a href=\"#\" onclick=\"selectDanji('KBM028104', '010110', '테라힐스', true, true); return false;\">테라힐스</a></li>, <li class=\"kbKBM032448\"><a href=\"#\" onclick=\"selectDanji('KBM032448', '010110', '테헤란아이파크', true, true); return false;\">테헤란아이파크</a></li>, <li class=\"kbKBM021263\"><a href=\"#\" onclick=\"selectDanji('KBM021263', '010110', '파크앤스위트', true, true); return false;\">파크앤스위트</a></li>, <li class=\"kbKBM032045\"><a href=\"#\" onclick=\"selectDanji('KBM032045', '010110', '포스틸빌라트', true, true); return false;\">포스틸빌라트</a></li>, <li class=\"kbKBM028549\"><a href=\"#\" onclick=\"selectDanji('KBM028549', '010110', '풍림지오빌', true, true); return false;\">풍림지오빌</a></li>, <li class=\"kbKBM051189\"><a href=\"#\" onclick=\"selectDanji('KBM051189', '010110', '풍성애뜨란(도시형)', true, true); return false;\">풍성애뜨란(도시형)</a></li>, <li class=\"kbKBM047712\"><a href=\"#\" onclick=\"selectDanji('KBM047712', '010110', '프리빌리지(도시형)', true, true); return false;\">프리빌리지(도시형)</a></li>, <li class=\"kbKBM024043\"><a href=\"#\" onclick=\"selectDanji('KBM024043', '010110', '플래티늄', true, true); return false;\">플래티늄</a></li>, <li class=\"kbKBM049264\"><a href=\"#\" onclick=\"selectDanji('KBM049264', '010110', '하우스템(도시형)', true, true); return false;\">하우스템(도시형)</a></li>, <li class=\"kbKBM024772\"><a href=\"#\" onclick=\"selectDanji('KBM024772', '010110', '한양럭스', true, true); return false;\">한양럭스</a></li>, <li class=\"kbKBM000045\"><a href=\"#\" onclick=\"selectDanji('KBM000045', '010110', '한화진넥스빌', true, true); return false;\">한화진넥스빌</a></li>, <li class=\"kbKBM000028\"><a href=\"#\" onclick=\"selectDanji('KBM000028', '010110', '현대까르디에710', true, true); return false;\">현대까르디에710</a></li>, <li class=\"kbKBM032716\"><a href=\"#\" onclick=\"selectDanji('KBM032716', '010110', '현대이스트빌', true, true); return false;\">현대이스트빌</a></li>, <li class=\"kbKBM000052\"><a href=\"#\" onclick=\"selectDanji('KBM000052', '010110', '현대트라움', true, true); return false;\">현대트라움</a></li>, <li class=\"kbKBM031189\"><a href=\"#\" onclick=\"selectDanji('KBM031189', '010110', '현대하이츠', true, true); return false;\">현대하이츠</a></li>, <li class=\"kbKBM000049\"><a href=\"#\" onclick=\"selectDanji('KBM000049', '010110', '휴먼터치빌', true, true); return false;\">휴먼터치빌</a></li>]\n",
      "역삼래미안\n"
     ]
    }
   ],
   "source": [
    "_id_list = [\"sido\", \"siGunGu\", \"eupMyeonDong\", \"danji\"]\n",
    "error_message_list = [\"시/도를 잘못 입력하셨습니다.\",\n",
    "                 \"시/군/구를 잘못 입력하셨습니다.\",\n",
    "                 \"읍/면/동을 잘못 입력하셨습니다.\",\n",
    "                 \"단지를 잘못 입력하셨습니다.\"]\n",
    "driver.find_element_by_xpath(\"//a[@title = '시/도 선택']\").click()\n",
    "for i in range(0,4):\n",
    "    search(_id_list[i], address_list[i], error_message_list[i])"
   ]
  },
  {
   "cell_type": "code",
   "execution_count": 37,
   "metadata": {},
   "outputs": [],
   "source": [
    "html = driver.page_source\n",
    "soup = BeautifulSoup(html, 'html.parser')\n",
    "temp = soup.select(\"#eupMyeonDong li\")"
   ]
  },
  {
   "cell_type": "code",
   "execution_count": 38,
   "metadata": {},
   "outputs": [
    {
     "data": {
      "text/plain": [
       "[<li class=\"kb010101\"><a href=\"#\" onclick=\"danjiAjax('010101'); return false;\">개포동</a></li>,\n",
       " <li class=\"kb010102\"><a href=\"#\" onclick=\"danjiAjax('010102'); return false;\">논현동</a></li>,\n",
       " <li class=\"kb010103\"><a href=\"#\" onclick=\"danjiAjax('010103'); return false;\">대치동</a></li>,\n",
       " <li class=\"kb010104\"><a href=\"#\" onclick=\"danjiAjax('010104'); return false;\">도곡동</a></li>,\n",
       " <li class=\"kb010105\"><a href=\"#\" onclick=\"danjiAjax('010105'); return false;\">삼성동</a></li>,\n",
       " <li class=\"kb010106\"><a href=\"#\" onclick=\"danjiAjax('010106'); return false;\">세곡동</a></li>,\n",
       " <li class=\"kb010107\"><a href=\"#\" onclick=\"danjiAjax('010107'); return false;\">수서동</a></li>,\n",
       " <li class=\"kb010108\"><a href=\"#\" onclick=\"danjiAjax('010108'); return false;\">신사동</a></li>,\n",
       " <li class=\"kb010109\"><a href=\"#\" onclick=\"danjiAjax('010109'); return false;\">압구정동</a></li>,\n",
       " <li class=\"kb010110\"><a href=\"#\" onclick=\"danjiAjax('010110'); return false;\">역삼동</a></li>,\n",
       " <li class=\"kb010111\"><a href=\"#\" onclick=\"danjiAjax('010111'); return false;\">율현동</a></li>,\n",
       " <li class=\"kb010112\"><a href=\"#\" onclick=\"danjiAjax('010112'); return false;\">일원동</a></li>,\n",
       " <li class=\"kb010114\"><a href=\"#\" onclick=\"danjiAjax('010114'); return false;\">자곡동</a></li>,\n",
       " <li class=\"kb010115\"><a href=\"#\" onclick=\"danjiAjax('010115'); return false;\">청담동</a></li>]"
      ]
     },
     "execution_count": 38,
     "metadata": {},
     "output_type": "execute_result"
    }
   ],
   "source": [
    "temp"
   ]
  },
  {
   "cell_type": "code",
   "execution_count": null,
   "metadata": {},
   "outputs": [],
   "source": []
  }
 ],
 "metadata": {
  "kernelspec": {
   "display_name": "Python [conda env:DL]",
   "language": "python",
   "name": "conda-env-DL-py"
  },
  "language_info": {
   "codemirror_mode": {
    "name": "ipython",
    "version": 3
   },
   "file_extension": ".py",
   "mimetype": "text/x-python",
   "name": "python",
   "nbconvert_exporter": "python",
   "pygments_lexer": "ipython3",
   "version": "3.6.6"
  }
 },
 "nbformat": 4,
 "nbformat_minor": 2
}
